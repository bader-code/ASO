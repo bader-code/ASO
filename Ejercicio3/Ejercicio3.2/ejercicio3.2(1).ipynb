{
 "cells": [
  {
   "cell_type": "markdown",
   "metadata": {},
   "source": [
    "# Ejercicio 3.2 - Planificación"
   ]
  },
  {
   "cell_type": "code",
   "execution_count": null,
   "metadata": {},
   "outputs": [],
   "source": [
    "%%bash\n",
    "rm -rf *.c *.o *.elf *.out script.sh prueba\n",
    "/*\n",
    "Daniel Ledesma Ventura\n",
    "Badr Guaitoune Akdi\n",
    "*/"
   ]
  },
  {
   "cell_type": "markdown",
   "metadata": {},
   "source": [
    "## Ejercicios\n",
    "\n",
    "**Ejercicio 1 - supershell.c** Escribe un programa que fije su política de planificación a SCHED_RR, y a continuación invoca (usando la llamada al sistema `execl`) al programa `/bin/bash` con prioridad máxima. En este punto, ejecuta el programa `prio` y comprueba los datos que devuelve. Ejecuta por otro lado el programa `prio` directamente, y verifica si el resultado mostrado es el mismo."
   ]
  },
  {
   "cell_type": "markdown",
   "metadata": {},
   "source": [
    "**Respuesta:**\n",
    "\n",
    "***\n",
    "Los resultados son distintios porque en caso de ejecutarlo desde el supershell este hereda su proceso padre, al ejecutarlo directamente es su propio proceso.\n",
    "\n",
    "..."
   ]
  },
  {
   "cell_type": "code",
   "execution_count": null,
   "metadata": {},
   "outputs": [],
   "source": [
    "%%writefile supershell.c\n",
    "#include <sched.h>\n",
    "#include <unistd.h>\n",
    "#include <stdlib.h>\n",
    "#include <stdio.h>\n",
    "\n",
    "int main() {\n",
    "  int max;\n",
    "  struct sched_param p;\n",
    "  int sched_policy;\n",
    "\n",
    "  sched_policy = SCHED_RR;\n",
    "/* \n",
    "Obtencion del valor máximo de prioridad de 'tiempo real'\n",
    "*/\n",
    "/*********************************************************************/\n",
    "  max = sched_get_priority_max(sched_policy);\n",
    "/*********************************************************************/\n",
    "\n",
    "/* \n",
    "Fijamos la prioridad del proceso a la máxima \n",
    "*/\n",
    "  p.sched_priority = max;\n",
    "/*********************************************************************/\n",
    "  if (sched_setscheduler(getpid(),sched_policy,&p) == -1) {\n",
    "/*********************************************************************/\n",
    "    perror(\"sched_setscheduler\");\n",
    "    exit(-1);\n",
    "  }\n",
    "\n",
    "  // Ejecutamos una shell que heredará las propiedades del padre\n",
    "  execl(\"/bin/bash\",\"/bin/bash\",(char *) 0 );\n",
    "\n",
    "  // Comprobar que se heredan las prioridades con el programa prio\n",
    "  return 0;\n",
    "}"
   ]
  },
  {
   "cell_type": "code",
   "execution_count": null,
   "metadata": {},
   "outputs": [],
   "source": [
    "%%writefile prio.c\n",
    "#include <sched.h>\n",
    "#include <stdio.h>\n",
    "\n",
    "// Tipos de planificadores\n",
    "// SCHED_RR\n",
    "// SCHED_FIFO\n",
    "// SCHED_OTHER   \n",
    "\n",
    "int main() {\n",
    "  int max, min, act;\n",
    "  struct sched_param p;\n",
    "  int sched_policy;\n",
    "\n",
    "  // Obtencion de la politica de planificacion del proceso actual\n",
    "  sched_policy = sched_getscheduler(0); \n",
    "\n",
    "/*  \n",
    "Valores máximos y minimos para el planificador \n",
    "*/\n",
    "/*********************************************************************/\n",
    "  max = sched_get_priority_max(sched_policy);\n",
    "  min = sched_get_priority_min(sched_policy);\n",
    "/*********************************************************************/\n",
    "    \n",
    "/* \n",
    "Obtención de la prioridad del proceso actual \n",
    "*/    \n",
    "/*********************************************************************/\n",
    "  sched_getparam(0,&p);\n",
    "  act = p.sched_priority;\n",
    "/*********************************************************************/\n",
    "\n",
    "  // Resultado:\n",
    "  printf(\"Max:%i \\t Min:%i \\t Actual:%i \\n\",max,min,act);\n",
    "    \n",
    "  return 0;  \n",
    "}\n",
    "\n",
    "/*\n",
    "\n",
    "badr@badr:~/Escritorio/ASO/Ejercicio3/Ejercicio3.2$ ./prio.elf \n",
    "Max:0 \t Min:0 \t Actual:0 \n",
    "badr@badr:~/Escritorio/ASO/Ejercicio3/Ejercicio3.2$ sudo ./supershell.elf \n",
    "[sudo] contraseña para badr: \n",
    "root@badr:/home/badr/Escritorio/ASO/Ejercicio3/Ejercicio3.2# /prio.elf \n",
    "bash: /prio.elf: No existe el archivo o el directorio\n",
    "root@badr:/home/badr/Escritorio/ASO/Ejercicio3/Ejercicio3.2# ./prio.elf \n",
    "Max:99 \t Min:1 \t Actual:99 \n",
    "root@badr:/home/badr/Escritorio/ASO/Ejercicio3/Ejercicio3.2# ^C\n",
    "root@badr:/home/badr/Escritorio/ASO/Ejercicio3/Ejercicio3.2# \n",
    "*/"
   ]
  },
  {
   "cell_type": "code",
   "execution_count": null,
   "metadata": {},
   "outputs": [],
   "source": [
    "%%bash\n",
    "gcc supershell.c -o supershell.elf\n",
    "gcc prio.c -o prio.elf\n",
    "# Este ejercicio se debe ejecutar en la MÁQUINA VIRTUAL, ejemplo de salida:\n",
    "# usuarioso@ubuntu:~/pruebas$ ./prio.elf \n",
    "# Max:0 Min:0 Actual:0 \n",
    "# usuarioso@ubuntu:~/pruebas$ sudo ./supershell.elf \n",
    "# root@mac-ubuntu:~/pruebas# ./prio.elf \n",
    "# Max:99 Min:1 Actual:99 "
   ]
  },
  {
   "cell_type": "markdown",
   "metadata": {},
   "source": [
    "**Ejercicio 2 - prio2.c (OPCIONAL)** Escribe un programa que, usando `getopt()` reciba tres parámetros. El primero (`-t <n>`) indicará el tipo de prioridad a otorgar al proceso: 0 para `SCHED_OTHER`, 1 para `SCHED_FIFO` y 2 para `SCHED_RR`. El segundo parámetro (`-p <prio>`) indicará la prioridad (dinámica o estática, según el caso) a otorgar al proceso. El tercer parámetro es opcional e indicará el tipo de código  que se ejecutará, tal y como se explica a continuación. Por defecto,  será intensivo en CPU; si se incluye la opción `-e`, se  ejecutará un código con mucha entrada/salida (para una pista de ambos tipos de códigos, revisad el ejercicio `getrusage.c`). El programa, tras fijar la prioridad seleccionada, temporizará la ejecución de un código intensivo en carga de CPU (u, opcionalmente, en entrada/salida). Una vez realizado, se creará un script `shell` que lance, de forma simultánea y a la misma CPU, un conjunto de ejecuciones del programa con distintos parámetros, y se realizará un estudio del tiempo de ejecución de cada una de las ejecuciones paralelas. Para forzar el uso de una sola CPU, se utilizará el programa `taskset`:\n",
    "\n",
    "```bash\n",
    "time ( taskset -c 0 sudo ./prio2.elf -t 0 -p -1 ) &> OTHER1.out &\n",
    "time ( taskset -c 0 sudo ./prio2.elf -t 1 -p 1 ) &> FIFO1.out &\n",
    "time ( taskset -c 0 sudo ./prio2.elf -t 1 -p 2 ) &> FIFO2.out &\n",
    "time ( taskset -c 0 sudo ./prio2.elf -t 1 -p 3 ) &> FIFO3.out &\n",
    "time ( taskset -c 0 sudo ./prio2.elf -t 1 -p 4 ) &> FIFO4.out &\n",
    "time ( taskset -c 0 sudo ./prio2.elf -t 0 -p 0 ) &> OTHER2.out &\n",
    "time ( taskset -c 0 sudo ./prio2.elf -t 0 -p 3 ) &> OTHER3.out &\n",
    "time ( taskset -c 0 sudo ./prio2.elf -t 0 -p 4 ) &> OTHER4.out &\n",
    "time ( taskset -c 0 sudo ./prio2.elf -t 0 -p 5 ) &> OTHER5.out &\n",
    "```\n",
    "\t\n",
    "¿Qué utilidad tiene poner el comando entre paréntesis?"
   ]
  },
  {
   "cell_type": "markdown",
   "metadata": {},
   "source": [
    "**Respuesta:**\n",
    "\n",
    "***\n",
    "\n",
    "..."
   ]
  },
  {
   "cell_type": "code",
   "execution_count": null,
   "metadata": {},
   "outputs": [],
   "source": [
    "%%writefile prio2.c\n",
    "/*********************************************************************/\n",
    "\n",
    "/*********************************************************************/"
   ]
  },
  {
   "cell_type": "code",
   "execution_count": null,
   "metadata": {},
   "outputs": [],
   "source": [
    "%%writefile script.sh\n",
    "#!/bin/bash\n",
    "time ( taskset -c 0 sudo ./prio2.elf -t 0 -p -1 ) &> OTHER1.out &\n",
    "time ( taskset -c 0 sudo ./prio2.elf -t 1 -p 1 ) &> FIFO1.out &\n",
    "time ( taskset -c 0 sudo ./prio2.elf -t 1 -p 2 ) &> FIFO2.out &\n",
    "time ( taskset -c 0 sudo ./prio2.elf -t 1 -p 3 ) &> FIFO3.out &\n",
    "time ( taskset -c 0 sudo ./prio2.elf -t 1 -p 4 ) &> FIFO4.out &\n",
    "time ( taskset -c 0 sudo ./prio2.elf -t 0 -p 0 ) &> OTHER2.out &\n",
    "time ( taskset -c 0 sudo ./prio2.elf -t 0 -p 3 ) &> OTHER3.out &\n",
    "time ( taskset -c 0 sudo ./prio2.elf -t 0 -p 4 ) &> OTHER4.out &\n",
    "time ( taskset -c 0 sudo ./prio2.elf -t 0 -p 5 ) &> OTHER5.out &"
   ]
  },
  {
   "cell_type": "code",
   "execution_count": null,
   "metadata": {},
   "outputs": [],
   "source": [
    "%%bash\n",
    "gcc prio2.c -o prio2.elf\n",
    "# Este programa debe ejecutarse en la máquina virtual"
   ]
  },
  {
   "cell_type": "markdown",
   "metadata": {},
   "source": [
    "## Cuestiones\n",
    "\n",
    "**Cuestión 1 - chrt** Consulta en el manual para qué sirve el comando `chrt`. ¿Con qué llamadas al sistema estudiadas lo relacionas?. Consigue listar las diferentes políticas de planificación disponibles y las prioridades de cada una de ellas."
   ]
  },
  {
   "cell_type": "markdown",
   "metadata": {},
   "source": [
    "**Respuesta:**\n",
    "\n",
    "***\n",
    "Con chrt estamos ante un programa para el control avanzado de procesos que permite averiguar y configurar los atributos de tiempo real (reglas de scheduling o planificación de procesos y prioridades) de procesos activos o ejecutar comandos y sus argumentos con determinados atributos de tiempo real. \n",
    "\n",
    "Opciones de las políticas:\n",
    " -b, --batch          establece la política SCHED_BATCH\n",
    " -d, --deadline       establece la política SCHED_DEADLINE\n",
    " -f, --fifo           establece la política SCHED_FIFO\n",
    " -i, --idle           establece la política SCHED_IDLE\n",
    " -o, --other          establece la política SCHED_OTHER\n",
    " -r, --rr             establece la política SCHED_RR (predeterminado)\n",
    " \n",
    " badr@badr:~$ chrt -m\n",
    "priodidad mín/máx de SCHED_OTHER\t: 0/0\n",
    "priodidad mín/máx de SCHED_FIFO\t: 1/99\n",
    "priodidad mín/máx de SCHED_RR\t: 1/99\n",
    "priodidad mín/máx de SCHED_BATCH\t: 0/0\n",
    "priodidad mín/máx de SCHED_IDLE\t: 0/0\n",
    "priodidad mín/máx de SCHED_DEADLINE\t: 0/0\n",
    "\n",
    "..."
   ]
  },
  {
   "cell_type": "markdown",
   "metadata": {},
   "source": [
    "**Cuestión 2 - chrt (OPCIONAL)** Este apartado hazlo ÚNICAMENTE en la máquina virtual. Instala el paquete `cpuburn` (`sudo apt-get install cpuburn`). Eso instala varios ejecutables (`burnBX`, `burnK6`, `burnK7`, `burnP5`, ...) que hacen uso intensivo de la CPU. Prueba a lanzar dos procesos `burnP5` en la misma CPU (usando `taskset`). Comprueba mediante `top` el reparto de CPU entre ambos procesos. Utiliza `chrt` para variar el algoritmo de planificación de uno de ellos (prioridades, pasarlo a tiempo real...). *CUIDADO: si pasas ambos procesos a tiempo real, es muy posible que se bloquee el sistema porque ningún proceso va a tener acceso a la CPU*."
   ]
  },
  {
   "cell_type": "markdown",
   "metadata": {},
   "source": [
    "**Respuesta:**\n",
    "\n",
    "***\n",
    "\n",
    "..."
   ]
  },
  {
   "cell_type": "markdown",
   "metadata": {},
   "source": [
    "**Cuestión 3 - sched** Abre un navegador `iceweasel` o ejecuta cualquier otra aplicación en background. Mediante `pidof`, descrube el PID del proceso que se crea. Consulta la información disponible en el fichero `/proc/<pid>/sched`."
   ]
  },
  {
   "cell_type": "markdown",
   "metadata": {},
   "source": [
    "**Respuesta:**\n",
    "\n",
    "***\n",
    "\n",
    "```bash\n",
    "root@badr:/home/badr/Escritorio/ASO/Ejercicio3/Ejercicio3.2# firefox google.com & pidof firefox\n",
    "[1] 7325\n",
    "7325 7161 6995 5856 5081 4946 2368 2308 2244\n",
    "root@badr:/home/badr/Escritorio/ASO/Ejercicio3/Ejercicio3.2# Running Firefox as root in a regular user's session is not supported.  ($XAUTHORITY is /run/user/1000/gdm/Xauthority which is owned by badr.)\n",
    "cat /proc/<pid>/sched;\n",
    "```\n",
    "systemd (1, #threads: 1)\n",
    "-------------------------------------------------------------------\n",
    "se.exec_start                                :       6763873.495201\n",
    "se.vruntime                                  :           387.407012\n",
    "se.sum_exec_runtime                          :          2741.584539\n",
    "se.nr_migrations                             :                  893\n",
    "nr_switches                                  :                26405\n",
    "nr_voluntary_switches                        :                25791\n",
    "nr_involuntary_switches                      :                  614\n",
    "se.load.weight                               :              1048576\n",
    "se.runnable_weight                           :              1048576\n",
    "se.avg.load_sum                              :                  260\n",
    "se.avg.runnable_load_sum                     :                  260\n",
    "se.avg.util_sum                              :               266240\n",
    "se.avg.load_avg                              :                    0\n",
    "se.avg.runnable_load_avg                     :                    0\n",
    "se.avg.util_avg                              :                    0\n",
    "se.avg.last_update_time                      :        6763873495040\n",
    "se.avg.util_est.ewma                         :                    9\n",
    "se.avg.util_est.enqueued                     :                    0\n",
    "policy                                       :                    0\n",
    "prio                                         :                  120\n",
    "clock-delta                                  :                   69\n",
    "mm->numa_scan_seq                            :                    0\n",
    "numa_pages_migrated                          :                    0\n",
    "numa_preferred_nid                           :                   -1\n",
    "total_numa_faults                            :                    0\n",
    "current_node=0, numa_group_id=0\n",
    "numa_faults node=0 task_private=0 task_shared=0 group_private=0 group_shared=0\n",
    "<Salida de cat /proc/<pid>/sched aquí>\n",
    "```"
   ]
  },
  {
   "cell_type": "markdown",
   "metadata": {},
   "source": [
    "**Cuestión 4 - sysctl** Consulta todos los parámetros que ofrece el *kernel* para sintonizar el planificacdor con el comando `sysctl -A | grep \"sched\"`. Busca información sobre el parámetro *sched_latency_ns*. ¿Es posible modificarlo con la herramienta `sysctl`?"
   ]
  },
  {
   "cell_type": "markdown",
   "metadata": {},
   "source": [
    "**Respuesta:**\n",
    "\n",
    "***\n",
    "...Latencia de preferencia dirigida para tareas vinculadas a la CPU. El aumento de esta variable aumenta el intervalo de tiempo de una tarea vinculada a la CPU. \n",
    "Si si es pocible Para obtener una lista de todas las variables sysctl relacionadas con el planificador, ingrese\n",
    "sysctl -A |  grep \"sched\" |  grep -v \"dominio\" \n",
    "\n",
    "para modificar una variable. Uso:\n",
    " sysctl [opciones] [variable[=valor] ...]\n",
    " sudo -w kernel.sched_latency_ns = 500000 ejemplo.\n",
    "..."
   ]
  }
 ],
 "metadata": {
  "kernelspec": {
   "display_name": "Python 3",
   "language": "python",
   "name": "python3"
  },
  "language_info": {
   "codemirror_mode": {
    "name": "ipython",
    "version": 3
   },
   "file_extension": ".py",
   "mimetype": "text/x-python",
   "name": "python",
   "nbconvert_exporter": "python",
   "pygments_lexer": "ipython3",
   "version": "3.8.2"
  }
 },
 "nbformat": 4,
 "nbformat_minor": 4
}
