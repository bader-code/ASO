{
 "cells": [
  {
   "cell_type": "markdown",
   "metadata": {},
   "source": [
    "## Ejercicios Módulo 2.1 - Manejo de ficheros"
   ]
  },
  {
   "cell_type": "code",
   "execution_count": null,
   "metadata": {},
   "outputs": [],
   "source": [
    "%%bash\n",
    "rm -rf *.c *.o *.elf prueba Makefile"
   ]
  },
  {
   "cell_type": "markdown",
   "metadata": {},
   "source": [
    "## Cuestiones\n",
    "\n",
    "**Cuestión 1 - Creación de ficheros.** Ejecuta la orden `touch prueba`. ¿Con qué permisos se ha creado el nuevo fichero?. Ahora ejecuta `umask`, ¿qué máscara se está usando para fijar los permisos de un fichero nuevo?, ¿qué argumentos estará usando `touch` en su llamada a `open()`  para que se reproduzca el comportamiento observado?. Modifica la máscara para que `touch` cree ficheros con permisos de lectura y escritura para usuario y grupo, pero sólo de lectura para el resto."
   ]
  },
  {
   "cell_type": "markdown",
   "metadata": {},
   "source": [
    "**Respuesta:**\n",
    "\n",
    "***\n",
    "Permisos:\n",
    "-rw-r--r-- 1 usuario_local users    0 mar  2 11:29  prueba\n",
    "Máscara:\n",
    "0022\n",
    "Argumentos de touch:\n",
    "0644\n",
    "Modificar Máscara:\n",
    "umask 0113\n",
    "\n"
   ]
  },
  {
   "cell_type": "code",
   "execution_count": null,
   "metadata": {},
   "outputs": [],
   "source": [
    "%%bash\n",
    "# Comandos que justifican tu respuesta\n",
    "touch prueba\n",
    "ls -l\n",
    "umask"
   ]
  },
  {
   "cell_type": "markdown",
   "metadata": {},
   "source": [
    "**Cuestión 2 - Tamaño ficheros.** Crea un nuevo fichero usando la orden:\n",
    "\n",
    "```bash\n",
    "echo \"Hola mundo!!\"  > nuevoFichero\n",
    "```\n",
    "\n",
    "¿Qué tamaño tiene ese fichero?\n",
    "\n",
    "A continuación usa la orden:\n",
    "\n",
    "```bash\n",
    " stat -c \" %s %b %B %o\" nuevoFichero \n",
    "```\n",
    "\n",
    "¿Qué significa cada número de los que aparecen? ¿Cuánto ocupa realmente el fichero en disco?\n",
    "\n"
   ]
  },
  {
   "cell_type": "markdown",
   "metadata": {},
   "source": [
    "**Respuesta:**\n",
    "\n",
    "***\n",
    "Tamaño:\n",
    "4,0K\tnuevoFichero\n",
    "%s: total size in bytes\n",
    "%b: number of blocks allocated\n",
    "%B: size in bytes of each block reported by %b\n",
    "%o: optimal I/O transfer size hint\n",
    "Realmente el fichero ocupa 8 bloques de 12 bytes\n"
   ]
  },
  {
   "cell_type": "code",
   "execution_count": null,
   "metadata": {},
   "outputs": [],
   "source": [
    "%%bash\n",
    "# Comandos que justifican tu respuesta\n",
    "du -sh *\n",
    "man stat 7\n",
    "echo \"Hola mundo!\"  > nuevoFichero\n",
    "stat -c \" %s %b %B %o\" nuevoFichero"
   ]
  },
  {
   "cell_type": "markdown",
   "metadata": {},
   "source": [
    "**Cuestión 3 - Enlaces.** Crea un enlace simbólico (`man ln`) al fichero `nuevoFichero` llamado `miLink`. ¿Cuánto ocupa el fichero del enlace? Crea un nuevo enlace simbólico al mismo fichero pero usando la ruta completa hasta `nuevoFichero`. ¿Cuánto ocupa éste? Explica la diferencia. ¿Coincide alguno de los tamaños con el del fichero original?"
   ]
  },
  {
   "cell_type": "markdown",
   "metadata": {},
   "source": [
    "**Respuesta:**\n",
    "\n",
    "***\n",
    "El fichero del enlace ocupa  12 bytes\n",
    "El nuevo enlace simbólico ocupa  25 bytes\n",
    "La diferencia es por guardar la ruta entera\n",
    "NuevoFichero ocupa 8 bloques de 12 bytes, coincide con el primer enlace simbolico en el numero de bytes por bloque"
   ]
  },
  {
   "cell_type": "code",
   "execution_count": null,
   "metadata": {},
   "outputs": [],
   "source": [
    "%%bash\n",
    "# Comandos que justifican tu respuesta:\n",
    "ln -s nuevoFichero milink\n",
    "stat milink\n",
    "ln -s /home/hlocal/nuevoFichero milink2\n",
    "stat milink2\n",
    "stat nuevoFichero"
   ]
  },
  {
   "cell_type": "markdown",
   "metadata": {},
   "source": [
    "**Cuestión 4 - Nodos-i.** Utiliza `ls -li` para mostrar la información de los ficheros del directorio actual, incluyendo su número de nodo-i. Los enlaces simbólicos creados anteriormente, ¿tienen el mismo número de nodo-i que el fichero al que apuntan? Crea ahora un enlace rígido al mismo fichero `nuevoFichero`. ¿Coincide su número de nodo-i con el de alguno de los anteriores?"
   ]
  },
  {
   "cell_type": "markdown",
   "metadata": {},
   "source": [
    "**Respuesta:**\n",
    "\n",
    "***\n",
    "En los enlaces simbolicos varia el inodo respecto al nuevoFichero.\n",
    "El enlace rigido si mantiene el mismo inodo que el fichero fuente ya que es exactamente igual"
   ]
  },
  {
   "cell_type": "code",
   "execution_count": null,
   "metadata": {},
   "outputs": [],
   "source": [
    "%%bash\n",
    "# Comandos que justifican tu respuesta:"
   ]
  },
  {
   "cell_type": "markdown",
   "metadata": {},
   "source": [
    "**Cuestión 5 - Redirección.** Considera nuevamente la orden\n",
    "\n",
    "```bash\n",
    "echo \"Hola mundo!!\"  > nuevoFichero\n",
    "```\n",
    "\n",
    "¿Qué efecto tiene el símbolo `>`? ¿Qué código estará ejecutando `bash` para conseguir el comportamiento observado? Investiga cómo redireccionar la salida de error estándar en `bash`."
   ]
  },
  {
   "cell_type": "markdown",
   "metadata": {},
   "source": [
    "**Respuesta:**\n",
    "comando 2 > error.log\n",
    "\n",
    "Este primer método SIEMPRE crea el fichero error.log, pero solo tendrá contenido si la ejecución del comando fallase por cualquier motivo.\n",
    "\n",
    "La salida por consola es suprimida y para ver el motivo del fallo deberíamos inspeccionar el fichero error.log.\n",
    "***\n",
    "\n",
    "para redireccionar > se ejecutara un dup con el cambio de descriptor."
   ]
  },
  {
   "cell_type": "code",
   "execution_count": null,
   "metadata": {},
   "outputs": [],
   "source": [
    "%%bash\n",
    "# Comandos que justifican tu respuesta\n"
   ]
  },
  {
   "cell_type": "markdown",
   "metadata": {},
   "source": [
    "## Apertura y creación de ficheros\n",
    "\n",
    "**Ejercicio 1 - open.c** Escribe un programa que simplemente abra un fichero existente utilizando la función `open`. Varía los `flags` de apertura, y a continuación intenta responder a las siguientes preguntas (consulta la página de manual para responder a alguna de las preguntas):\n",
    "\n",
    "1. ¿Qué combinación de flags para la función `open` serían equivalentes a la invocación de la función `creat`?\n",
    "2. ¿Qué flag o combinación de flags serían necesarios para que la función `open` devolviese un error si se intenta crear un fichero que ya existe?\n",
    "3. ¿Bajo qué circunstancia la función `open` devolverá un error de tipo `ENOENT`? En esa circunstancia, ¿qué flag evitaría dicho error?\n",
    "4. ¿Bajo qué circunstancia o circunstancias (combinación de `flags` y tipo de fichero), la función `open` devolverá un error de tipo `EISDIR`? \n",
    "5. ¿Bajo qué circunstancia la función `open` devolverá un error de tipo `ENAMETOOLONG`? "
   ]
  },
  {
   "cell_type": "markdown",
   "metadata": {},
   "source": [
    "**Respuesta:**\n",
    "\n",
    "***\n",
    "\n"
   ]
  },
  {
   "cell_type": "code",
   "execution_count": null,
   "metadata": {},
   "outputs": [],
   "source": [
    "%%writefile open.c\n",
    "/***************************************************************************/\n",
    "// includes:\n",
    "\n",
    "/***************************************************************************/\n",
    "\n",
    "int main() {\n",
    "/* \n",
    "Definicion de los descriptores. Utiliza tantos descriptores y archivos como\n",
    "necesites para responder a las preguntas. Se pueden reutilizar descriptores.\n",
    "*/\n",
    "  int  fd1, fd2;\n",
    "\n",
    "/***************************************************************************/\n",
    "// Código para responder a la pregunta 1:\n",
    "   fd1 = open(\"prueba\", O_WRONLY|O_CREAT|O_TRUNC);\n",
    "\n",
    "/***************************************************************************/\n",
    "\n",
    "/***************************************************************************/\n",
    "// Código para responder a la pregunta 2:\n",
    "   fd1 = open(\"prueba\", O_WRONLY|O_CREAT|O_EXCL);\n",
    "   if (fd1<0){\n",
    "    if(errno==EEXIST){\n",
    "         perror( \"open EEXIST\" );\n",
    "    }\n",
    "   }\n",
    "\n",
    "/***************************************************************************/\n",
    "\n",
    "/***************************************************************************/\n",
    "// Código para responder a la pregunta 3:\n",
    " fd1 = open(\"prueba\", O_WRONLY);\n",
    "  if (fd1<0)         /* error */ //-1 si errno==ENOENT fichero no existe;\n",
    "    if(errno==ENOENT){\n",
    "        perror( \"open ENOENT\" );\n",
    "    }\n",
    "\n",
    "/***************************************************************************/\n",
    "\n",
    "/***************************************************************************/\n",
    "// Código para responder a la pregunta 4:\n",
    "  fd1 = open(\"/home\", __O_DIRECTORY | O_RDWR);\n",
    "  if (fd1<0)         /* error */ //-1 si errno==ENOENT fichero no existe;\n",
    "    if(errno==EISDIR){\n",
    "        perror( \"open EISDIR\" );\n",
    "    }\n",
    "  }\n",
    "\n",
    "/***************************************************************************/\n",
    "\n",
    "/***************************************************************************/\n",
    "// Código para responder a la pregunta 5:\n",
    "    char d_name[NAME_MAX + 5];\n",
    "    fd1 = open(d_name,O_WRONLY);\n",
    "    if (fd1<0){   \n",
    "      if(errno==ENAMETOOLONG){\n",
    "        perror( \"open ENAMETOOLONG\" );\n",
    "      }\n",
    "    }\n",
    "\n",
    "/***************************************************************************/\n",
    "close(fd1);\n",
    "/***************************************************************************/\n",
    "// Cierre de los ficheros:\n",
    "\n",
    "/***************************************************************************/\n",
    "\n",
    "  return 1;\n",
    "}\n"
   ]
  },
  {
   "cell_type": "code",
   "execution_count": null,
   "metadata": {},
   "outputs": [],
   "source": [
    "%%bash\n",
    "gcc open.c -o open.elf\n",
    "./open.elf"
   ]
  },
  {
   "cell_type": "markdown",
   "metadata": {},
   "source": [
    "## Descriptores de ficheros\n",
    "\n",
    "**Ejercicio 2 - dup.c** Completa el  programa para que escriba en un fichero la frase `Hola, mundo`. No está permitido utilizar directamente la llamada al sistema `write` ni la función `fwrite()` (se debe mantener la llamada a `printf()` tal y como está). Propón dos alternativas distintas para resolver el problema."
   ]
  },
  {
   "cell_type": "markdown",
   "metadata": {},
   "source": [
    "**Respuesta:**\n",
    "\n",
    "***\n",
    "\n"
   ]
  },
  {
   "cell_type": "code",
   "execution_count": null,
   "metadata": {},
   "outputs": [],
   "source": [
    "%%writefile dup.c\n",
    "#include <sys/types.h>\n",
    "#include <sys/stat.h>\n",
    "#include <fcntl.h>\n",
    "#include <stdio.h>\n",
    "#include <stdlib.h>\n",
    "#include <unistd.h>\n",
    "\n",
    "int main() {\n",
    "\n",
    " /* Descriptor del fichero */\n",
    "  int fd;\n",
    "\n",
    "  // apertura del fichero de salida\n",
    "  fd = open(\"prueba\", O_CREAT|O_WRONLY|O_TRUNC, 0660);\n",
    "\n",
    "  if( fd == -1 ) { \n",
    "    perror(\"open\"); \n",
    "    exit(1);\n",
    "  }\n",
    "\n",
    " /* Manipular los descriptores de ficheros para que\n",
    " la llamada a printf del final se escriba en el fichero  */\n",
    "  if(dup2(fd,STDOUT_FILENO) == -1){\n",
    "  perror(\"fallo dup2\");\n",
    "   exit(EXIT_FAILURE);\n",
    "\n",
    "  }\n",
    " /* Cerramos el fichero, puesto que no podemos usar su\n",
    "  descriptor de acuerdo al enunciado*/\n",
    "  close(fd);    \n",
    "\n",
    "/* Prueba */\n",
    "  printf(\"Hola , mundo\\n\");\n",
    "}"
   ]
  },
  {
   "cell_type": "code",
   "execution_count": null,
   "metadata": {},
   "outputs": [],
   "source": [
    "%%bash\n",
    "gcc dup.c -o dup.elf\n",
    "./dup.elf"
   ]
  },
  {
   "cell_type": "markdown",
   "metadata": {},
   "source": [
    "**Ejercicio 3 - cat.c** Escribe una función llamada `copy`, que no reciba ningún parámetro. Dicha función leerá continuamente un carácter desde el descriptor de fichero `0`, y escribirá en el descriptor de fichero `1` cada cadena de caracteres introducida. Invocar dicha función desde `main()` para mostrar por pantalla el contenido de un determinado fichero."
   ]
  },
  {
   "cell_type": "markdown",
   "metadata": {},
   "source": [
    "**Respuesta:**\n",
    "\n",
    "***\n",
    "\n"
   ]
  },
  {
   "cell_type": "code",
   "execution_count": 9,
   "metadata": {},
   "outputs": [
    {
     "name": "stdout",
     "output_type": "stream",
     "text": [
      "Overwriting cat.c\n"
     ]
    }
   ],
   "source": [
    "%%writefile cat.c\n",
    "#include <stdio.h>\n",
    "#include <fcntl.h>\n",
    "#include <stdlib.h>\n",
    "#include <unistd.h>\n",
    "\n",
    "\n",
    "// funcion que va leyendo \n",
    "// de la entrada estandar byte a byte\n",
    "// y escribiendo lo leido en la salida \n",
    "// estandar (hasta que no se detecte nada \n",
    "// en la entrada estandar\n",
    "void copy() {\n",
    "    char c;\n",
    "    int error = 0;\n",
    "    \n",
    "    do{\n",
    "       if((read(0, &c, 1) != 1) || (write(1, &c, 1) != 1))     error = 1;\n",
    "    }  while(c != '\\0' && !error);\n",
    "\n",
    "}\n",
    "\n",
    "\n",
    "int main( int argc, char **argv)\n",
    "{\n",
    "  int    fd;\n",
    "  char ch;\n",
    "  \n",
    "/* Abrir el fichero que se quiere mostrar*/\n",
    " fd = open(\"prueba\", O_RDONLY);\n",
    "/* Hacer lo necesario para que, al llamar \n",
    " a copy, se muestre su contenido por pantalla*/ \n",
    "  dup2(fd, 0);\n",
    "\n",
    "  copy(); \n",
    "  return 0;\n",
    "}"
   ]
  },
  {
   "cell_type": "code",
   "execution_count": 10,
   "metadata": {},
   "outputs": [
    {
     "name": "stdout",
     "output_type": "stream",
     "text": [
      "Hola mundo!\n"
     ]
    }
   ],
   "source": [
    "%%bash\n",
    "gcc cat.c -o cat.elf\n",
    "echo \"Hola mundo!\" > prueba\n",
    "./cat.elf"
   ]
  },
  {
   "cell_type": "markdown",
   "metadata": {},
   "source": [
    "## Desplazamiento en ficheros\n",
    "\n",
    "**Ejercicio 4 - lseek.c** Ejecuta el fichero que crea  un agujero (*hole*) de un determinado tamaño en un fichero. Abre el fichero con un editor de textos y comprueba el resultado. Utiliza el comando `hexdump` para mostrar el contenido del fichero."
   ]
  },
  {
   "cell_type": "markdown",
   "metadata": {},
   "source": [
    "**Respuesta:**\n",
    "\n",
    "***\n",
    "Salida tras hexdump -c prueba:\n",
    "Principio del archivo 0\n",
    "Posicion despues de escribir 5\n",
    "Otra vez al principio 0\n",
    "Escribimos a partir de 16384\n",
    "0000000   H   O   L   A   ,  \\0  \\0  \\0  \\0  \\0  \\0  \\0  \\0  \\0  \\0  \\0\n",
    "0000010  \\0  \\0  \\0  \\0  \\0  \\0  \\0  \\0  \\0  \\0  \\0  \\0  \\0  \\0  \\0  \\0\n",
    "*\n",
    "0004000       m   u   n   d   o                                        \n",
    "0004006\n"
   ]
  },
  {
   "cell_type": "code",
   "execution_count": 3,
   "metadata": {},
   "outputs": [
    {
     "name": "stdout",
     "output_type": "stream",
     "text": [
      "Writing lseek.c\n"
     ]
    }
   ],
   "source": [
    "%%writefile lseek.c\n",
    "#include <sys/types.h>\n",
    "#include <sys/stat.h>\n",
    "#include <fcntl.h>\n",
    "#include <stdio.h>\n",
    "#include <stdlib.h>\n",
    "#include <unistd.h>\n",
    "\n",
    "int main()\n",
    "{\n",
    "\toff_t inicio;\n",
    "    char linea1[10]=\"HOLA,\";\n",
    "    char linea2[10]=\" mundo\";\n",
    "    int fd;\n",
    "    \n",
    "    fd=open(\"prueba\",O_WRONLY|O_CREAT|O_TRUNC,0666);\n",
    "    \n",
    "    inicio = lseek(fd,0,SEEK_CUR);\n",
    "    printf(\"Principio del archivo %ld\\n\", inicio);\n",
    "    \n",
    "    \n",
    "    write(fd, linea1, 5);\n",
    "    \n",
    "    printf(\"Posicion despues de escribir %ld\\n\",lseek(fd,0,SEEK_CUR));\n",
    "    \n",
    "    lseek(fd,inicio,SEEK_SET);\n",
    "    printf(\"Otra vez al principio %ld\\n\",lseek(fd,0,SEEK_CUR));\n",
    "\n",
    "    // saltamos 16KB\n",
    "    lseek(fd,16384,SEEK_SET);\n",
    "    \n",
    "    printf(\"Escribimos a partir de %ld\\n\",lseek(fd,0,SEEK_CUR));\n",
    "    // vuelvo a escribir\n",
    "    write(fd, linea2, 6);\n",
    "    close(fd);\n",
    "    \n",
    "    return 1;\n",
    "}    "
   ]
  },
  {
   "cell_type": "code",
   "execution_count": 8,
   "metadata": {},
   "outputs": [
    {
     "name": "stdout",
     "output_type": "stream",
     "text": [
      "Principio del archivo 0\n",
      "Posicion despues de escribir 5\n",
      "Otra vez al principio 0\n",
      "Escribimos a partir de 16384\n"
     ]
    }
   ],
   "source": [
    "%%bash\n",
    "gcc lseek.c -o lseek.elf\n",
    "./lseek.elf\n",
    "# Comandos que justifican tu respuesta:\n",
    "hexdump -c prueba"
   ]
  },
  {
   "cell_type": "markdown",
   "metadata": {},
   "source": [
    "## Lectura/escritura en ficheros\n",
    "\n",
    "**Ejercicio 5 - rw.c** Escribe un programa  que copie un fichero usando  las llamadas al sistema `read` y `write`. Usa `time` para temporizar y ejecuta varias veces el código con el mismo fichero origen  aumentando  el número de bytes leídos/escritos en cada llamada al sistema. Para ello usa una macro `TAM_BLOQUE` cuyo valor se especificará en tiempo de compilación usando el flag `-D` (prueba con valores de `TAM_BLOQUE` de 1, 64, 512, 1024 y 4096, usando como entrada un fichero de varios MB (por ejemplo, copia el fichero `/boot/initrd.img-3.2.0-4-amd64` a tu directorio de trabajo y usa esa copia para probar). ¿Varía significativamente el tiempo de copia?"
   ]
  },
  {
   "cell_type": "markdown",
   "metadata": {},
   "source": [
    "**Respuesta:**\n",
    "\n",
    "***\n",
    "\n"
   ]
  },
  {
   "cell_type": "code",
   "execution_count": 3,
   "metadata": {},
   "outputs": [
    {
     "name": "stdout",
     "output_type": "stream",
     "text": [
      "Overwriting rw.c\n"
     ]
    }
   ],
   "source": [
    "%%writefile rw.c\n",
    "#include <sys/types.h>\n",
    "#include <sys/stat.h>\n",
    "#include <fcntl.h>\n",
    "#include <stdio.h>\n",
    "#include <stdlib.h>\n",
    "#include <unistd.h>\n",
    "\n",
    "\n",
    "#ifndef TAM_BLOQUE\n",
    "#define TAM_BLOQUE 1\n",
    "#endif \n",
    "\n",
    "// declarar array para almacenar los bytes leidos\n",
    "char buffer[];\n",
    "\n",
    "int main() {\n",
    "\n",
    "  int   fdo, fdd,n;\n",
    "  char  c;\n",
    "\n",
    "   // mantener este fichero para pruebas iniciales.\n",
    "  // cambiar por uno mayor para medir tiempos\n",
    "  fdo = open(\"/etc/passwd\", O_RDONLY);\n",
    "\n",
    "  if( fdo == -1 ) {\n",
    "    perror(\"open\"); \n",
    "    exit(1);\n",
    "  }\n",
    "\n",
    "  // Abrir fichero destino para escritura\n",
    "  fdd = open (argv[2],O_WRONLY|O_CREAT|O_TRUNC);\n",
    "  if (fdd == -1) {\n",
    "        perror(\"Error al abrir el fichero de destino\");\n",
    "  }\n",
    "\n",
    "  printf(\"Comienza la copia con TAM_BLOQUE=%d bytes\\n\", TAM_BLOQUE); \n",
    "  // Incluir las llamadas de temporizacion de vuestra libreria (start...)\n",
    "\n",
    "  // Bucle de copia: leer TAM_BLOQUE btyes por llamada. Escribir lo leido\n",
    "  while ((n=read(fdo,buffer, TAM_BLOQUE)) > 0 )\n",
    "  {\n",
    "  \t if (write(fdd, buffer, n) != n)\n",
    "     {\n",
    "     \tperror(\"Error en write\");\n",
    "\t }\n",
    "  }            \n",
    "     \n",
    "  if (n == -1) \n",
    "    perror(\"read\");\n",
    " \n",
    "  close(fdd);\n",
    "    close(fdo);\n",
    "}\n"
   ]
  },
  {
   "cell_type": "code",
   "execution_count": 2,
   "metadata": {},
   "outputs": [],
   "source": [
    "%%bash\n",
    "# Lista de comandos que justifican tu respuesta:\n",
    "dd if= /dev/zero of=./prueba bs=512 count=$((16*1024*1024/512))\n",
    "rm -f prueba2\n",
    "gcc  rw.c -o rw.elf -DTAM_BLOQUE=1\n",
    "time ./rw.elf prueba prueba2"
   ]
  },
  {
   "cell_type": "markdown",
   "metadata": {},
   "source": [
    "## Enlaces\n",
    "\n",
    "**Ejercicio 6 - lee_enlace.c** Escribe un programa con nombre `lee_enlace.c` que, para un determinado enlace simbólico, muestre por pantalla el nombre del fichero al que apunta dicho enlace. ¿Qué se almacena en el campo `st_size` del inodo correspondiente a dicho fichero? Ten especial precaución en la reserva de espacio de memoria para la cadena que contendrá el nombre del fichero destino."
   ]
  },
  {
   "cell_type": "markdown",
   "metadata": {},
   "source": [
    "**Respuesta:**\n",
    "\n",
    "***\n",
    "\n"
   ]
  },
  {
   "cell_type": "code",
   "execution_count": null,
   "metadata": {},
   "outputs": [],
   "source": [
    "%%writefile lee_enlace.c\n",
    "#include <unistd.h>\n",
    "#include <stdio.h>\n",
    "#include <sys/stat.h>\n",
    "#include <sys/types.h>\n",
    "#include <stdlib.h>\n",
    "\n",
    "int main(int argc, char *argv[]) {\n",
    "\n",
    "  char *buf;\n",
    "  struct stat statbuf;\n",
    "  int n;\n",
    "\n",
    "/* leemos las propiedades del link mediante lstat */\n",
    "  if (lstat(argv[1], &statbuf) == -1) { \n",
    "    perror(\"lstat\"); \n",
    "    exit(1);\n",
    "  }\n",
    "/* Comprobamos si es un link o no */\n",
    "  if (!S_ISLNK(statbuf.st_mode))  {\n",
    "    fprintf(stderr, \"%s is not a symbolic link.\\n\",\n",
    "              argv[1]);\n",
    "\t\texit(1);\n",
    "  }\n",
    "\n",
    "/* Reservamos espacio para el link (+1 final de cadena */\n",
    "  buf = (char *)malloc(statbuf.st_size + 1);\n",
    "\n",
    "  if (buf == NULL) {\n",
    "    fprintf(stderr, \"Out of memory.\\n\");\n",
    "    exit(1);\n",
    "  }\n",
    "\n",
    "/* Leemos el link */\n",
    "  n = readlink(argv[1], buf, statbuf.st_size + 1);\n",
    "\n",
    "  if (n == -1) {\n",
    "    perror(\"readlink\"); \n",
    "    exit(1);\n",
    "  }\n",
    "\n",
    "/* Imprimimos el link buffer */  \n",
    "  buf[n] ='\\0' //Caracter de fin de cadena \n",
    "  printf(\"%s\\n\", buf);\n",
    "  exit(0);\n",
    "  \n",
    "}"
   ]
  },
  {
   "cell_type": "code",
   "execution_count": null,
   "metadata": {},
   "outputs": [],
   "source": [
    "%%bash\n",
    "gcc lee_enlace.c -o lee_enlace.elf\n",
    "# Lista de comandos que justifican tu respuesta:\n",
    "rm -f fichero enlace\n",
    "echo \"Hola\" > fichero\n",
    "ls -s fichero enlace\n",
    "./lee_enlace.elf enlace\n",
    "./lee_enlace.elf fichero"
   ]
  },
  {
   "cell_type": "markdown",
   "metadata": {},
   "source": [
    "**Ejercicio 7 - links.c** Implementa un programa que cree un fichero, y a continuación un enlace simbólico y otro duro que apunten a él. Extrae el tamaño de cada uno de dichos ficheros. ¿Son diferentes en ambos casos? ¿Por qué?"
   ]
  },
  {
   "cell_type": "markdown",
   "metadata": {},
   "source": [
    "**Respuesta:**\n",
    "Si son distintos, porque el enlace duro se añade al i-node del archivo por lo que no crea otro bloque donde guardarse, por otro lado el enlace simnolico se guarda en otra direccion de memoria distinta al propio archivo. que apunta.\n",
    "***\n",
    "\n"
   ]
  },
  {
   "cell_type": "code",
   "execution_count": null,
   "metadata": {},
   "outputs": [],
   "source": [
    "%%writefile links.c\n",
    "#include <unistd.h>\n",
    "\n",
    "int main() {\n",
    "  int  fd1;\n",
    "\n",
    "  char *buf;\n",
    "  struct stat statbuf;\n",
    "  int n;\n",
    "  //Crea un fichero (open)\n",
    "  fd1 = open(\"prueba\", O_WRONLY|O_CREAT|O_TRUNC);\n",
    "\n",
    "  /* Creacion de un enlace hard */\n",
    "  link(\"prueba\", \"pruebaLinkH\");\n",
    "\n",
    "  /* Enlace simbolico */\n",
    "  symlink(\"prueba\", \"pruebaLinkS\");\n",
    "    \n",
    "   lstat(\"pruebaLinkH\",&statbuf);\n",
    "   printf(\"Tamaño total en bytes pruebaLinkH:%ld \\n\",statbuf.st_size);\n",
    "   printf(\"Tamaño total en bloques pruebaLinkH:%ld \\n\",statbuf.st_blocks);\n",
    "\n",
    "\n",
    "   lstat(\"pruebaLinkS\",&statbuf);\n",
    "   printf(\"Tamaño total en bytes pruebaLinkS:%ld \\n\",statbuf.st_size);\n",
    "   printf(\"Tamaño total en bloques pruebaLinkS:%ld \\n\",statbuf.st_blocks);\n",
    "  return 0;\n",
    "}"
   ]
  },
  {
   "cell_type": "code",
   "execution_count": null,
   "metadata": {},
   "outputs": [],
   "source": [
    "%%bash\n",
    "gcc links.c -o links.elf\n",
    "# Lista de comandos que justifican tu respuesta:\n"
   ]
  },
  {
   "cell_type": "markdown",
   "metadata": {},
   "source": [
    "## Manejo de directorios\n",
    "\n",
    "**Ejercicio 8 - mi_ls.c** Escribe un programa llamado `mi_ls.c` que, para un determinado directorio, muestre por pantalla su contenido (nombres de los ficheros que lo componen)."
   ]
  },
  {
   "cell_type": "code",
   "execution_count": null,
   "metadata": {},
   "outputs": [],
   "source": [
    "%%writefile mi_ls.c\n",
    "#include <stdio.h>\n",
    "#include <sys/stat.h>\n",
    "#include <dirent.h>\n",
    "\n",
    "main(int argc, char *argv[]) {\n",
    "\n",
    "  struct stat buf;\n",
    "  DIR   *dirp;\n",
    "  struct dirent *dent;\n",
    "  int n;\n",
    "\n",
    "/* obtencion de la descripcion del directorio */\n",
    "  if (stat(argv[1], &buf) == -1) {\n",
    "    perror(\"stat\");\n",
    "    exit(1);\n",
    "  }\n",
    "\n",
    "/* Comprobamos que es un directorio */\n",
    "  if (!S_ISDIR(buf.st_mode)) {\n",
    "    fprintf(stderr, \"%s no es un directorio.\\n\", argv[1]);\n",
    "    exit(1);\n",
    "  }\n",
    "\n",
    "/* Apertura del directorio usando operdir*/\n",
    "  if ((dirp = opendir(argv[1])) == NULL) {\n",
    "    perror(\"opendir\");\n",
    "    exit(1);\n",
    "  }\n",
    "  printf(\"<<<< Contenidos de %s>>>>\\n\",argv[1]);\n",
    "\n",
    "/* Leemos el directorio */\n",
    "  while ((dent = readdir(dirp)) != NULL) {\n",
    "    printf(\"%d\\t%d\\t%d\\t%s\\n\", dent->d_ino, dent->d_off, dent->d_reclen, dent->d_name);\n",
    "  }\n",
    "  \n",
    "  // Cerrar directorio\n",
    "  closedir(dirp);\n",
    "}"
   ]
  },
  {
   "cell_type": "code",
   "execution_count": null,
   "metadata": {},
   "outputs": [],
   "source": [
    "%%bash\n",
    "gcc mi_ls.c -o mi_ls.elf\n",
    "./mi_ls.elf"
   ]
  },
  {
   "cell_type": "markdown",
   "metadata": {},
   "source": [
    "**Ejercicio 9 - mi_ls_bis.c** A partir del programa anterior, crea un nuevo programa que, además, muestre por pantalla la información de los permisos de cada fichero tal y como la muestra el comando `ls -l`."
   ]
  },
  {
   "cell_type": "code",
   "execution_count": null,
   "metadata": {},
   "outputs": [],
   "source": [
    "%%writefile mi_ls_bis.c\n",
    "/****************************************************************************/\n",
    "\n",
    "#include <sys/types.h>\n",
    "#include <sys/stat.h>\n",
    "#include <unistd.h>\n",
    "#include <dirent.h>\n",
    "#include <stdio.h>\n",
    "\n",
    "void imprime_permisos(struct stat estru){\n",
    " printf((S_ISDIR(estru.st_mode))?  \"d\" : \"-\");\n",
    " printf((estru.st_mode & S_IRUSR)? \"r\" :  \"-\");\n",
    " printf((estru.st_mode & S_IWUSR)? \"w\" : \"-\");\n",
    " printf((estru.st_mode & S_IXUSR)? \"x\" : \"-\");\n",
    " printf((estru.st_mode & S_IRGRP)? \"r\" : \"-\");\n",
    " printf((estru.st_mode & S_IWGRP)? \"w\" : \"-\");\n",
    " printf((estru.st_mode & S_IXGRP)? \"x\" : \"-\");\n",
    " printf((estru.st_mode & S_IROTH)? \"r\" : \"-\");\n",
    " printf((estru.st_mode & S_IWOTH)? \"w\" : \"-\");\n",
    " printf((estru.st_mode & S_IXOTH)? \"x\" : \"-\");\n",
    "}\n",
    "\n",
    "main(int argc, char *argv[]) {\n",
    "\n",
    "  struct stat buf;\n",
    "  DIR   *dirp;\n",
    "  struct dirent *dent;\n",
    "  int n;\n",
    "\n",
    "/* obtencion de la descripcion del directorio */\n",
    "  if (stat(argv[1], &buf) == -1) {\n",
    "    perror(\"stat\");\n",
    "    exit(1);\n",
    "  }\n",
    "\n",
    "/* Comprobamos que es un directorio */\n",
    "  if (!S_ISDIR(buf.st_mode)) {\n",
    "    fprintf(stderr, \"%s no es un directorio.\\n\", argv[1]);\n",
    "    exit(1);\n",
    "  }\n",
    "\n",
    "/* Apertura del directorio usando operdir*/\n",
    "  if ((dirp = opendir(argv[1])) == NULL) {\n",
    "    perror(\"opendir\");\n",
    "    exit(1);\n",
    "  }\n",
    "  printf(\"<<<< Contenidos de %s>>>>\\n\",argv[1]);\n",
    "\n",
    "/* Leemos el directorio */\n",
    "  while ((dent = readdir(dirp)) != NULL) {\n",
    "    printf(\"%d\\t%d\\t%d\\t%s\\n\", dent->d_ino, dent->d_off, dent->d_reclen, dent->d_name);\n",
    "     stat(dent->d_name,&buf);\n",
    "    if(S_ISDIR(buf.st_mode)){\n",
    "        imprime_permisos(buf);\n",
    "    }\n",
    "  }\n",
    "  \n",
    "  // Cerrar directorio\n",
    "  closedir(dirp);\n",
    "}\n",
    "/****************************************************************************/"
   ]
  },
  {
   "cell_type": "code",
   "execution_count": null,
   "metadata": {},
   "outputs": [],
   "source": [
    "%%bash\n",
    "gcc mi_ls_bis.c -o mi_ls_bis.elf\n",
    "./mi_ls_bis.elf"
   ]
  },
  {
   "cell_type": "markdown",
   "metadata": {},
   "source": [
    "## Makefile\n",
    "\n",
    "**Ejercicio 10 - Makefile.** Crea un fichero **Makefile** que compile todos los ejemplos del directorio de modo que se generen ejecutables con el mismo nombre que el fuente, pero con extensión **.elf**. El **Makefile** deberá incluir una regla **clean** que borre todos los ficheros **.o** y **.elf** generados."
   ]
  },
  {
   "cell_type": "code",
   "execution_count": null,
   "metadata": {},
   "outputs": [],
   "source": [
    "%%writefile Makefile\n",
    "CC = gcc\n",
    "CFLAGS = -g -Wall -Werror\n",
    "\n",
    "###################################################\n",
    "\n",
    "all: mi_ls_bis.elf  mi_ls.elf links.elf lee_enlace.elf cat.elf lseek.elf\n",
    "    dup.elf open.elf rw.elf\n",
    "\n",
    "%.elf: %.o\n",
    "\t$(CC) $(CFLAGS) $^ -o $@\n",
    "\n",
    "&.o: %.c\n",
    "\t$(CC) -c $< -o $@\n",
    "\n",
    ".PHONY: clean\n",
    "\n",
    "\n",
    "clean:\n",
    "\trm -f *.o *.elf\n",
    "###################################################"
   ]
  },
  {
   "cell_type": "code",
   "execution_count": null,
   "metadata": {},
   "outputs": [],
   "source": [
    "%%bash\n",
    "make clean\n",
    "make"
   ]
  }
 ],
 "metadata": {
  "kernelspec": {
   "display_name": "Python 3",
   "language": "python",
   "name": "python3"
  },
  "language_info": {
   "codemirror_mode": {
    "name": "ipython",
    "version": 3
   },
   "file_extension": ".py",
   "mimetype": "text/x-python",
   "name": "python",
   "nbconvert_exporter": "python",
   "pygments_lexer": "ipython3",
   "version": "3.6.9"
  }
 },
 "nbformat": 4,
 "nbformat_minor": 4
}
